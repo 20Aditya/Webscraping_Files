{
 "cells": [
  {
   "cell_type": "code",
   "execution_count": 28,
   "metadata": {
    "collapsed": false
   },
   "outputs": [],
   "source": [
    "from bs4 import BeautifulSoup\n",
    "import requests\n",
    "import pandas as pd\n",
    "from pandas import Series,DataFrame\n",
    "import numpy as np"
   ]
  },
  {
   "cell_type": "code",
   "execution_count": 35,
   "metadata": {
    "collapsed": true
   },
   "outputs": [],
   "source": [
    "url = 'https://inshorts.com/en/read'"
   ]
  },
  {
   "cell_type": "code",
   "execution_count": 36,
   "metadata": {
    "collapsed": false
   },
   "outputs": [],
   "source": [
    "result = requests.get(url)\n",
    "c = result.content\n",
    "\n",
    "soup = BeautifulSoup(c,'html.parser')"
   ]
  },
  {
   "cell_type": "code",
   "execution_count": 69,
   "metadata": {
    "collapsed": false
   },
   "outputs": [],
   "source": [
    "summary = soup.find(\"div\",{\"class\":\"card-stack\"})\n"
   ]
  },
  {
   "cell_type": "code",
   "execution_count": 60,
   "metadata": {
    "collapsed": false
   },
   "outputs": [],
   "source": [
    "headline = summary.find_all('span',{\"itemprop\":\"headline\"})\n",
    "author = summary.find_all('span',{\"class\":\"author\"})\n",
    "date = summary.find_all('span',{\"clas\":\"date\"})\n",
    "news = summary.find_all('div',{\"itemprop\":\"articleBody\"})"
   ]
  },
  {
   "cell_type": "code",
   "execution_count": 61,
   "metadata": {
    "collapsed": false
   },
   "outputs": [],
   "source": [
    "headlines = []\n",
    "authors = []\n",
    "dates = []\n",
    "newsarticle = []\n",
    "\n",
    "for i in range(len(headline)):\n",
    "    text = headline[i].find(text=True)\n",
    "    headlines.append(text)\n",
    "    authors.append(author[i].find(text=True))\n",
    "    dates.append(date[i].find(text=True))\n",
    "    newsarticle.append(news[i].find(text=True))"
   ]
  },
  {
   "cell_type": "code",
   "execution_count": 62,
   "metadata": {
    "collapsed": false
   },
   "outputs": [],
   "source": [
    "headlines = Series(headlines)\n",
    "authors = Series(authors)\n",
    "dates = Series(dates)\n",
    "newsarticle = Series(newsarticle)"
   ]
  },
  {
   "cell_type": "code",
   "execution_count": 65,
   "metadata": {
    "collapsed": true
   },
   "outputs": [],
   "source": [
    "inshorts_news = pd.concat([headlines,authors,newsarticle,dates],axis=1)"
   ]
  },
  {
   "cell_type": "code",
   "execution_count": 67,
   "metadata": {
    "collapsed": false
   },
   "outputs": [],
   "source": [
    "inshorts_news.columns = [\"Headlines\",\"Authors\",\"Article\",\"Date Published\"]"
   ]
  },
  {
   "cell_type": "code",
   "execution_count": 68,
   "metadata": {
    "collapsed": false
   },
   "outputs": [
    {
     "data": {
      "text/html": [
       "<div>\n",
       "<style scoped>\n",
       "    .dataframe tbody tr th:only-of-type {\n",
       "        vertical-align: middle;\n",
       "    }\n",
       "\n",
       "    .dataframe tbody tr th {\n",
       "        vertical-align: top;\n",
       "    }\n",
       "\n",
       "    .dataframe thead th {\n",
       "        text-align: right;\n",
       "    }\n",
       "</style>\n",
       "<table border=\"1\" class=\"dataframe\">\n",
       "  <thead>\n",
       "    <tr style=\"text-align: right;\">\n",
       "      <th></th>\n",
       "      <th>Headlines</th>\n",
       "      <th>Authors</th>\n",
       "      <th>Article</th>\n",
       "      <th>Date Published</th>\n",
       "    </tr>\n",
       "  </thead>\n",
       "  <tbody>\n",
       "    <tr>\n",
       "      <th>0</th>\n",
       "      <td>Search now with Big Bazaar's #SmartSearch</td>\n",
       "      <td>Roshan Gupta</td>\n",
       "      <td>India's largest retailer, Big Bazaar brings Sm...</td>\n",
       "      <td>06 Jul 2018,Friday</td>\n",
       "    </tr>\n",
       "    <tr>\n",
       "      <th>1</th>\n",
       "      <td>Weather is bad: Mumbai crash pilot's last conv...</td>\n",
       "      <td>Roshan Gupta</td>\n",
       "      <td>The pilot of the plane that crashed in Mumbai'...</td>\n",
       "      <td>06 Jul</td>\n",
       "    </tr>\n",
       "    <tr>\n",
       "      <th>2</th>\n",
       "      <td>3 arrested for kidnapping 2 H’wood actors, tor...</td>\n",
       "      <td>Pragya Swastik</td>\n",
       "      <td>Three people were charged in Los Angeles for a...</td>\n",
       "      <td>06 Jul 2018,Friday</td>\n",
       "    </tr>\n",
       "    <tr>\n",
       "      <th>3</th>\n",
       "      <td>TV actress arrested for printing fake currency...</td>\n",
       "      <td>Pragya Swastik</td>\n",
       "      <td>Malayalam television actress Surya, her mother...</td>\n",
       "      <td>06 Jul</td>\n",
       "    </tr>\n",
       "    <tr>\n",
       "      <th>4</th>\n",
       "      <td>Man eats a record 74 hot dogs in 10 mins to wi...</td>\n",
       "      <td>Daisy Mowke</td>\n",
       "      <td>Joey Chestnut ate 74 hot dogs in 10 minutes to...</td>\n",
       "      <td>06 Jul 2018,Friday</td>\n",
       "    </tr>\n",
       "    <tr>\n",
       "      <th>5</th>\n",
       "      <td>Andhra CM conducts house-warming ceremony for ...</td>\n",
       "      <td>Daisy Mowke</td>\n",
       "      <td>Andhra Pradesh Chief Minister Chandrababu Naid...</td>\n",
       "      <td>06 Jul</td>\n",
       "    </tr>\n",
       "    <tr>\n",
       "      <th>6</th>\n",
       "      <td>Policeman kidnapped by terrorists found dead i...</td>\n",
       "      <td>Daisy Mowke</td>\n",
       "      <td>A police constable Javaid Ahmad Dar, who had b...</td>\n",
       "      <td>06 Jul 2018,Friday</td>\n",
       "    </tr>\n",
       "    <tr>\n",
       "      <th>7</th>\n",
       "      <td>Baby rescued from kidnapper named after Hyd co...</td>\n",
       "      <td>Daisy Mowke</td>\n",
       "      <td>The newborn baby girl rescued by Hyderabad Pol...</td>\n",
       "      <td>06 Jul</td>\n",
       "    </tr>\n",
       "    <tr>\n",
       "      <th>8</th>\n",
       "      <td>Lift free-falls 7 floors in UP, woman suffers ...</td>\n",
       "      <td>Dishant Sharma</td>\n",
       "      <td>An elevator in Gaur Saundaryam Society in Grea...</td>\n",
       "      <td>06 Jul 2018,Friday</td>\n",
       "    </tr>\n",
       "    <tr>\n",
       "      <th>9</th>\n",
       "      <td>Teachers leak video from cam hidden in girls' ...</td>\n",
       "      <td>Dishant Sharma</td>\n",
       "      <td>The Principal of a school in Uttar Pradesh, al...</td>\n",
       "      <td>06 Jul</td>\n",
       "    </tr>\n",
       "    <tr>\n",
       "      <th>10</th>\n",
       "      <td>Ready to take dope test: Punjab CM after AAP M...</td>\n",
       "      <td>Bulbul Dhawan</td>\n",
       "      <td>After Punjab AAP MLA Aman Arora challenged him...</td>\n",
       "      <td>06 Jul 2018,Friday</td>\n",
       "    </tr>\n",
       "    <tr>\n",
       "      <th>11</th>\n",
       "      <td>No Mahabharata if gambling was regulated then:...</td>\n",
       "      <td>Bulbul Dhawan</td>\n",
       "      <td>While recommending legalisation of betting and...</td>\n",
       "      <td>06 Jul</td>\n",
       "    </tr>\n",
       "    <tr>\n",
       "      <th>12</th>\n",
       "      <td>Woman booked for flying drone at Hyd's Charmin...</td>\n",
       "      <td>Arshiya Chopra</td>\n",
       "      <td>A 26-yr-old woman has been booked after she wa...</td>\n",
       "      <td>06 Jul 2018,Friday</td>\n",
       "    </tr>\n",
       "    <tr>\n",
       "      <th>13</th>\n",
       "      <td>Russian commissions 12-storey-high World Cup m...</td>\n",
       "      <td>Arshiya Chopra</td>\n",
       "      <td>A Russian man commissioned a 12-storey-high mu...</td>\n",
       "      <td>06 Jul</td>\n",
       "    </tr>\n",
       "    <tr>\n",
       "      <th>14</th>\n",
       "      <td>Fatherhood tougher than bowling to Kohli: Pak ...</td>\n",
       "      <td>Arshiya Chopra</td>\n",
       "      <td>Pakistani pacer Mohammad Amir has said that fa...</td>\n",
       "      <td>06 Jul 2018,Friday</td>\n",
       "    </tr>\n",
       "    <tr>\n",
       "      <th>15</th>\n",
       "      <td>AI analyses handwriting to determine if a pers...</td>\n",
       "      <td>Arshiya Chopra</td>\n",
       "      <td>Researchers at the Cornell University have dev...</td>\n",
       "      <td>06 Jul</td>\n",
       "    </tr>\n",
       "    <tr>\n",
       "      <th>16</th>\n",
       "      <td>Shaadi.com to use Aadhaar numbers to verify us...</td>\n",
       "      <td>Saloni Tandon</td>\n",
       "      <td>Matrimonial site Shaadi.com has started using ...</td>\n",
       "      <td>05 Jul 2018,Thursday</td>\n",
       "    </tr>\n",
       "    <tr>\n",
       "      <th>17</th>\n",
       "      <td>Facebook's goal was to 'addict' people: Former...</td>\n",
       "      <td>Saloni Tandon</td>\n",
       "      <td>Talking about the negative effects of Facebook...</td>\n",
       "      <td>05 Jul</td>\n",
       "    </tr>\n",
       "    <tr>\n",
       "      <th>18</th>\n",
       "      <td>Sasikala's family waited for Jaya to die: AIAD...</td>\n",
       "      <td>Arshiya Chopra</td>\n",
       "      <td>The AIADMK mouthpiece Namadhu Amma on Wednesda...</td>\n",
       "      <td>06 Jul 2018,Friday</td>\n",
       "    </tr>\n",
       "    <tr>\n",
       "      <th>19</th>\n",
       "      <td>Tesla rolls out self-parking feature to Model ...</td>\n",
       "      <td>Arshiya Chopra</td>\n",
       "      <td>Elon Musk-led electric carmaker Tesla has roll...</td>\n",
       "      <td>06 Jul</td>\n",
       "    </tr>\n",
       "    <tr>\n",
       "      <th>20</th>\n",
       "      <td>Deeply disappointed: Taiwan on AI renaming it ...</td>\n",
       "      <td>Ayushi Ahluwalia</td>\n",
       "      <td>Taiwan on Thursday said it is \"deeply disappoi...</td>\n",
       "      <td>06 Jul 2018,Friday</td>\n",
       "    </tr>\n",
       "    <tr>\n",
       "      <th>21</th>\n",
       "      <td>Railway officers to get lessons in ethics and ...</td>\n",
       "      <td>Ayushi Ahluwalia</td>\n",
       "      <td>The Indian Railways will conduct nationwide cl...</td>\n",
       "      <td>06 Jul</td>\n",
       "    </tr>\n",
       "    <tr>\n",
       "      <th>22</th>\n",
       "      <td>Obama called UK Foreign Secretary 'Britain's T...</td>\n",
       "      <td>Arshiya Chopra</td>\n",
       "      <td>Former US President Barack Obama called UK's F...</td>\n",
       "      <td>06 Jul 2018,Friday</td>\n",
       "    </tr>\n",
       "    <tr>\n",
       "      <th>23</th>\n",
       "      <td>Stop tweeting, it's driving up oil prices: Ira...</td>\n",
       "      <td>Arshiya Chopra</td>\n",
       "      <td>Iran has said US President Donald Trump's twee...</td>\n",
       "      <td>06 Jul</td>\n",
       "    </tr>\n",
       "    <tr>\n",
       "      <th>24</th>\n",
       "      <td>Trump's son shares dad's 'Salt Bae' meme on In...</td>\n",
       "      <td>Ayushi Ahluwalia</td>\n",
       "      <td>US President Donald Trump's son Donald Trump J...</td>\n",
       "      <td>06 Jul 2018,Friday</td>\n",
       "    </tr>\n",
       "  </tbody>\n",
       "</table>\n",
       "</div>"
      ],
      "text/plain": [
       "                                            Headlines           Authors  \\\n",
       "0           Search now with Big Bazaar's #SmartSearch      Roshan Gupta   \n",
       "1   Weather is bad: Mumbai crash pilot's last conv...      Roshan Gupta   \n",
       "2   3 arrested for kidnapping 2 H’wood actors, tor...    Pragya Swastik   \n",
       "3   TV actress arrested for printing fake currency...    Pragya Swastik   \n",
       "4   Man eats a record 74 hot dogs in 10 mins to wi...       Daisy Mowke   \n",
       "5   Andhra CM conducts house-warming ceremony for ...       Daisy Mowke   \n",
       "6   Policeman kidnapped by terrorists found dead i...       Daisy Mowke   \n",
       "7   Baby rescued from kidnapper named after Hyd co...       Daisy Mowke   \n",
       "8   Lift free-falls 7 floors in UP, woman suffers ...    Dishant Sharma   \n",
       "9   Teachers leak video from cam hidden in girls' ...    Dishant Sharma   \n",
       "10  Ready to take dope test: Punjab CM after AAP M...     Bulbul Dhawan   \n",
       "11  No Mahabharata if gambling was regulated then:...     Bulbul Dhawan   \n",
       "12  Woman booked for flying drone at Hyd's Charmin...    Arshiya Chopra   \n",
       "13  Russian commissions 12-storey-high World Cup m...    Arshiya Chopra   \n",
       "14  Fatherhood tougher than bowling to Kohli: Pak ...    Arshiya Chopra   \n",
       "15  AI analyses handwriting to determine if a pers...    Arshiya Chopra   \n",
       "16  Shaadi.com to use Aadhaar numbers to verify us...     Saloni Tandon   \n",
       "17  Facebook's goal was to 'addict' people: Former...     Saloni Tandon   \n",
       "18  Sasikala's family waited for Jaya to die: AIAD...    Arshiya Chopra   \n",
       "19  Tesla rolls out self-parking feature to Model ...    Arshiya Chopra   \n",
       "20  Deeply disappointed: Taiwan on AI renaming it ...  Ayushi Ahluwalia   \n",
       "21  Railway officers to get lessons in ethics and ...  Ayushi Ahluwalia   \n",
       "22  Obama called UK Foreign Secretary 'Britain's T...    Arshiya Chopra   \n",
       "23  Stop tweeting, it's driving up oil prices: Ira...    Arshiya Chopra   \n",
       "24  Trump's son shares dad's 'Salt Bae' meme on In...  Ayushi Ahluwalia   \n",
       "\n",
       "                                              Article        Date Published  \n",
       "0   India's largest retailer, Big Bazaar brings Sm...    06 Jul 2018,Friday  \n",
       "1   The pilot of the plane that crashed in Mumbai'...                06 Jul  \n",
       "2   Three people were charged in Los Angeles for a...    06 Jul 2018,Friday  \n",
       "3   Malayalam television actress Surya, her mother...                06 Jul  \n",
       "4   Joey Chestnut ate 74 hot dogs in 10 minutes to...    06 Jul 2018,Friday  \n",
       "5   Andhra Pradesh Chief Minister Chandrababu Naid...                06 Jul  \n",
       "6   A police constable Javaid Ahmad Dar, who had b...    06 Jul 2018,Friday  \n",
       "7   The newborn baby girl rescued by Hyderabad Pol...                06 Jul  \n",
       "8   An elevator in Gaur Saundaryam Society in Grea...    06 Jul 2018,Friday  \n",
       "9   The Principal of a school in Uttar Pradesh, al...                06 Jul  \n",
       "10  After Punjab AAP MLA Aman Arora challenged him...    06 Jul 2018,Friday  \n",
       "11  While recommending legalisation of betting and...                06 Jul  \n",
       "12  A 26-yr-old woman has been booked after she wa...    06 Jul 2018,Friday  \n",
       "13  A Russian man commissioned a 12-storey-high mu...                06 Jul  \n",
       "14  Pakistani pacer Mohammad Amir has said that fa...    06 Jul 2018,Friday  \n",
       "15  Researchers at the Cornell University have dev...                06 Jul  \n",
       "16  Matrimonial site Shaadi.com has started using ...  05 Jul 2018,Thursday  \n",
       "17  Talking about the negative effects of Facebook...                05 Jul  \n",
       "18  The AIADMK mouthpiece Namadhu Amma on Wednesda...    06 Jul 2018,Friday  \n",
       "19  Elon Musk-led electric carmaker Tesla has roll...                06 Jul  \n",
       "20  Taiwan on Thursday said it is \"deeply disappoi...    06 Jul 2018,Friday  \n",
       "21  The Indian Railways will conduct nationwide cl...                06 Jul  \n",
       "22  Former US President Barack Obama called UK's F...    06 Jul 2018,Friday  \n",
       "23  Iran has said US President Donald Trump's twee...                06 Jul  \n",
       "24  US President Donald Trump's son Donald Trump J...    06 Jul 2018,Friday  "
      ]
     },
     "execution_count": 68,
     "metadata": {},
     "output_type": "execute_result"
    }
   ],
   "source": [
    "inshorts_news"
   ]
  },
  {
   "cell_type": "code",
   "execution_count": null,
   "metadata": {
    "collapsed": true
   },
   "outputs": [],
   "source": []
  }
 ],
 "metadata": {
  "anaconda-cloud": {},
  "kernelspec": {
   "display_name": "Python [default]",
   "language": "python",
   "name": "python3"
  },
  "language_info": {
   "codemirror_mode": {
    "name": "ipython",
    "version": 3
   },
   "file_extension": ".py",
   "mimetype": "text/x-python",
   "name": "python",
   "nbconvert_exporter": "python",
   "pygments_lexer": "ipython3",
   "version": "3.5.2"
  }
 },
 "nbformat": 4,
 "nbformat_minor": 1
}
