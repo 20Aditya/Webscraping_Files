{
 "cells": [
  {
   "cell_type": "code",
   "execution_count": 18,
   "metadata": {
    "collapsed": false
   },
   "outputs": [],
   "source": [
    "from selenium import webdriver\n",
    "from selenium.webdriver.common.by import By\n",
    "from selenium.webdriver.support.ui import WebDriverWait\n",
    "from selenium.webdriver.support import expected_conditions as EC\n",
    "from selenium.common.exceptions import TimeoutException\n",
    "import pandas as pd\n",
    "from pandas import Series,DataFrame"
   ]
  },
  {
   "cell_type": "code",
   "execution_count": 22,
   "metadata": {
    "collapsed": true
   },
   "outputs": [],
   "source": [
    "browser = webdriver.Chrome()\n",
    "symbol = [\"FB\",\"MSFT\",\"AAPL\"]"
   ]
  },
  {
   "cell_type": "code",
   "execution_count": 23,
   "metadata": {
    "collapsed": false
   },
   "outputs": [
    {
     "name": "stdout",
     "output_type": "stream",
     "text": [
      "FB\n",
      "\n",
      "\n",
      "                      Titles           Values\n",
      "0             Previous Close           198.45\n",
      "1                       Open           198.45\n",
      "2                        Bid    200.49 x 1000\n",
      "3                        Ask    200.48 x 1300\n",
      "4                Day's Range  197.70 - 201.31\n",
      "5              52 Week Range  147.80 - 203.55\n",
      "6                     Volume        7,386,478\n",
      "7                Avg. Volume       24,016,264\n",
      "8                 Market Cap         582.602B\n",
      "9                       Beta             0.81\n",
      "10            PE Ratio (TTM)            33.32\n",
      "11                 EPS (TTM)             6.04\n",
      "12             Earnings Date     Jul 25, 2018\n",
      "13  Forward Dividend & Yield        N/A (N/A)\n",
      "14          Ex-Dividend Date              N/A\n",
      "15             1y Target Est           225.13\n",
      "\n",
      "\n",
      "MSFT\n",
      "\n",
      "\n",
      "                      Titles          Values\n",
      "0             Previous Close           99.76\n",
      "1                       Open           99.89\n",
      "2                        Bid   100.58 x 2200\n",
      "3                        Ask    100.59 x 800\n",
      "4                Day's Range  99.71 - 100.93\n",
      "5              52 Week Range  68.70 - 102.69\n",
      "6                     Volume       5,787,122\n",
      "7                Avg. Volume      26,603,703\n",
      "8                 Market Cap        775.389B\n",
      "9                       Beta            1.28\n",
      "10            PE Ratio (TTM)           68.24\n",
      "11                 EPS (TTM)            1.48\n",
      "12             Earnings Date    Jul 19, 2018\n",
      "13  Forward Dividend & Yield    1.68 (1.70%)\n",
      "14          Ex-Dividend Date      2018-08-15\n",
      "15             1y Target Est          112.56\n",
      "\n",
      "\n",
      "AAPL\n",
      "\n",
      "\n",
      "                      Titles           Values\n",
      "0             Previous Close           185.40\n",
      "1                       Open           185.42\n",
      "2                        Bid    187.13 x 1000\n",
      "3                        Ask     187.14 x 900\n",
      "4                Day's Range  185.30 - 187.48\n",
      "5              52 Week Range  142.90 - 194.20\n",
      "6                     Volume        6,730,024\n",
      "7                Avg. Volume       27,455,941\n",
      "8                 Market Cap         921.196B\n",
      "9                       Beta             1.15\n",
      "10            PE Ratio (TTM)            18.13\n",
      "11                 EPS (TTM)          10.3390\n",
      "12             Earnings Date     Jul 31, 2018\n",
      "13  Forward Dividend & Yield     2.92 (1.58%)\n",
      "14          Ex-Dividend Date       2018-05-11\n",
      "15             1y Target Est           200.06\n",
      "\n",
      "\n"
     ]
    }
   ],
   "source": [
    "for i in symbol:\n",
    "    browser.get(\"http://www.finance.yahoo.com/quote/\"+i+\"?p=\"+i)\n",
    "    titles_elements = browser.find_elements_by_xpath(\"//td[@class='C(black) W(51%)']\")\n",
    "    titles = [x.text for x in titles_elements]\n",
    "    values_elements = browser.find_elements_by_xpath(\"//td[@class='Ta(end) Fw(b) Lh(14px)']\")\n",
    "    values = [x.text for x in values_elements]\n",
    "    titles = Series(titles)\n",
    "    values = Series(values)\n",
    "    df = pd.concat([titles,values],axis=1)\n",
    "    df.columns = [\"Titles\",\"Values\"]\n",
    "    print(i)\n",
    "    print(\"\\n\")\n",
    "    print(df)\n",
    "    print(\"\\n\")\n",
    "    "
   ]
  },
  {
   "cell_type": "code",
   "execution_count": null,
   "metadata": {
    "collapsed": true
   },
   "outputs": [],
   "source": []
  }
 ],
 "metadata": {
  "anaconda-cloud": {},
  "kernelspec": {
   "display_name": "Python [default]",
   "language": "python",
   "name": "python3"
  },
  "language_info": {
   "codemirror_mode": {
    "name": "ipython",
    "version": 3
   },
   "file_extension": ".py",
   "mimetype": "text/x-python",
   "name": "python",
   "nbconvert_exporter": "python",
   "pygments_lexer": "ipython3",
   "version": "3.5.2"
  }
 },
 "nbformat": 4,
 "nbformat_minor": 1
}
